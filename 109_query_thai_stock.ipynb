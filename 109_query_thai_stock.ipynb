{
  "nbformat": 4,
  "nbformat_minor": 0,
  "metadata": {
    "colab": {
      "name": "109_query_thai_stock.ipynb",
      "provenance": [],
      "collapsed_sections": [],
      "toc_visible": true,
      "include_colab_link": true
    },
    "kernelspec": {
      "name": "python3",
      "display_name": "Python 3"
    }
  },
  "cells": [
    {
      "cell_type": "markdown",
      "metadata": {
        "id": "view-in-github",
        "colab_type": "text"
      },
      "source": [
        "<a href=\"https://colab.research.google.com/github/BliztRipper/stockTH/blob/master/109_query_thai_stock.ipynb\" target=\"_parent\"><img src=\"https://colab.research.google.com/assets/colab-badge.svg\" alt=\"Open In Colab\"/></a>"
      ]
    },
    {
      "cell_type": "markdown",
      "metadata": {
        "id": "VH3vbWFopuK-",
        "colab_type": "text"
      },
      "source": [
        "<img height=\"45px\" src=\"https://avatars3.githubusercontent.com/u/20337240?s=460&v=4\" align=\"left\" hspace=\"10px\" vspace=\"0px\">\n",
        "\n",
        "<h1>ตัวอย่างการดูข้อมูลหุ้นไทย</h1>\n",
        "\n",
        "<hr>"
      ]
    },
    {
      "cell_type": "markdown",
      "metadata": {
        "id": "zHL4TesHnCG6",
        "colab_type": "text"
      },
      "source": [
        "# ติดตั้งแพ็กเกจ และเซทอัพ Environment"
      ]
    },
    {
      "cell_type": "code",
      "metadata": {
        "id": "evTg65ram3XQ",
        "colab_type": "code",
        "colab": {}
      },
      "source": [
        "!pip install pandas_datareader"
      ],
      "execution_count": 0,
      "outputs": []
    },
    {
      "cell_type": "code",
      "metadata": {
        "id": "zr6uU075nOQB",
        "colab_type": "code",
        "colab": {}
      },
      "source": [
        "import os, sys\n",
        "import numpy as np\n",
        "import pandas as pd\n",
        "#pd.core.common.is_list_like = pd.api.types.is_list_like\n",
        "\n",
        "from pandas_datareader import data as pdr\n",
        "from tqdm import tqdm, trange\n",
        "\n",
        "import matplotlib.pyplot as plt\n",
        "import pandas as pd\n",
        "from IPython.core.display import display, HTML\n",
        "\n",
        "display(HTML(\"<style>.container { width:90% !important; }</style>\"))\n",
        "pd.options.display.max_columns = 999\n",
        "pd.options.display.max_rows = 999"
      ],
      "execution_count": 0,
      "outputs": []
    },
    {
      "cell_type": "markdown",
      "metadata": {
        "id": "q9PbE3NYnzxN",
        "colab_type": "text"
      },
      "source": [
        "# ดูข้อมูลหุ้น"
      ]
    },
    {
      "cell_type": "code",
      "metadata": {
        "id": "GARh6YCynkl0",
        "colab_type": "code",
        "cellView": "form",
        "colab": {}
      },
      "source": [
        "#@title ป้อนชื่อย่อหุ้นไทย (ในรูปแบบแอเรย์ ) และวันที่เริ่มต้นและสิ้นสุด\n",
        "stock_list =  ['KBANK', 'SCB', 'BBL', 'KTB', 'AOT', 'PTT'] #@param {type:\"raw\"}\n",
        "start_date = \"2017-08-27\" #@param {type:\"date\"}\n",
        "end_date = \"2020-01-09\" #@param {type:\"date\"}"
      ],
      "execution_count": 0,
      "outputs": []
    },
    {
      "cell_type": "markdown",
      "metadata": {
        "id": "8ridgDodoGW2",
        "colab_type": "text"
      },
      "source": [
        "## ดาวน์โหลดข้อมูลหุ้นไทย"
      ]
    },
    {
      "cell_type": "code",
      "metadata": {
        "id": "uM1m9NZJoAux",
        "colab_type": "code",
        "colab": {}
      },
      "source": [
        "data = {}\n",
        "for quote in tqdm(stock_list):\n",
        "    try:\n",
        "        data[quote] = pdr.get_data_yahoo('{}.BK'.format(quote), start=start_date, end=end_date)        \n",
        "    except:\n",
        "        print(\"Error:\", sys.exc_info()[0])\n",
        "        print(\"Description:\", sys.exc_info()[1])     \n"
      ],
      "execution_count": 0,
      "outputs": []
    },
    {
      "cell_type": "code",
      "metadata": {
        "id": "rSaxzLkXoXR8",
        "colab_type": "code",
        "colab": {}
      },
      "source": [
        "#temp = data['KBANK']\n",
        "#temp.drop('Close',axis=1, inplace=True)\n",
        "#temp.rename(columns={'Adj Close':'_Close'}, inplace=True)\n",
        "#temp.to_csv('KBANK.csv')\n",
        "#!cat KBANK.csv"
      ],
      "execution_count": 0,
      "outputs": []
    },
    {
      "cell_type": "markdown",
      "metadata": {
        "id": "VxYViw6tozmF",
        "colab_type": "text"
      },
      "source": [
        "## ดูข้อมูลข้างใน (เลือกเฉพาะส่วนหัวมมาแสดง)"
      ]
    },
    {
      "cell_type": "code",
      "metadata": {
        "id": "3euvEZLXoXQh",
        "colab_type": "code",
        "colab": {}
      },
      "source": [
        "print(\"แสดงข้อมูลหุ้นบางส่วน\", list(data.keys()))\n",
        "[ df.head() for key, df in data.items()]"
      ],
      "execution_count": 0,
      "outputs": []
    },
    {
      "cell_type": "markdown",
      "metadata": {
        "id": "kF4DIqQ-pMMY",
        "colab_type": "text"
      },
      "source": [
        "# พล็อตกราฟไล่เรียงหุ้นรายตัว"
      ]
    },
    {
      "cell_type": "code",
      "metadata": {
        "id": "rJSHB7RvpKyU",
        "colab_type": "code",
        "colab": {}
      },
      "source": [
        "[ df.plot(y='Adj Close', label='Price', style='-r').set_title(key)  for key, df in data.items()]"
      ],
      "execution_count": 0,
      "outputs": []
    },
    {
      "cell_type": "markdown",
      "metadata": {
        "id": "nap6qQOup9qX",
        "colab_type": "text"
      },
      "source": [
        "# ฝากติดตาม\n",
        "\n",
        "<img height=\"20px\" src=\"https://www.patanasongsivilai.com/blog/wp-content/uploads/2017/06/logo_facebook2.png\" align=\"left\" hspace=\"10px\" vspace=\"0px\">  https://www.facebook.com/programmerthai/\n",
        "\n",
        "<img height=\"14px\" src=\"https://www.patanasongsivilai.com/blog/wp-content/uploads/2019/03/youtube.png\" align=\"left\" hspace=\"10px\" vspace=\"3px\">  https://www.youtube.com/channel/UCvhCKtG5cRE6K5--RJPql_w"
      ]
    }
  ]
}